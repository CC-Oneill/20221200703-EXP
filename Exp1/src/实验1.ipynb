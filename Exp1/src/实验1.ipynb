{
  "cells": [
    {
      "cell_type": "markdown",
      "metadata": {},
      "source": [
        "# 实验一 线性回归实验报告\n",
        "\n",
        "## 实验目的\n",
        "1. 掌握线性回归模型的基本原理和应用。\n",
        "2. 学习使用 scikit-learn 机器学习库进行数据处理、模型训练和评估。\n",
        "3. 通过数据分析和可视化，深入理解数据集特征与目标变量之间的关系。\n",
        "\n",
        "## 实验环境\n",
        "- **操作系统**: Windows 10\n",
        "- **开发工具**: PyCharm\n",
        "- **编程语言**: Python 3.9\n",
        "- **所需库**:\n",
        "  - numpy: 数值计算\n",
        "  - pandas: 数据处理\n",
        "  - matplotlib: 数据可视化\n",
        "  - seaborn: 增强可视化效果（新增，需安装）\n",
        "  - scikit-learn (>=0.18): 机器学习建模\n",
        "\n",
        "**安装命令**:\n",
        "```bash\n",
        "pip install numpy pandas matplotlib seaborn scikit-learn\n",
        "```\n",
        "\n",
        "## 实验内容\n",
        "数据集 `Folds5x2_pp.csv` 包含9568个样本，每样本有5列：\n",
        "- **AT**: 温度 (Ambient Temperature)\n",
        "- **V**: 催化剂 (Exhaust Vacuum)\n",
        "- **AP**: 湿度 (Atmospheric Pressure)\n",
        "- **RH**: 压强 (Relative Humidity)\n",
        "- **PE**: 输出功率 (Net Hourly Electrical Energy Output, 目标变量)\n",
        "\n",
        "目标是学习线性回归模型：\n",
        "$$\n",
        "PE = \\theta_0 + \\theta_1 \\cdot AT + \\theta_2 \\cdot V + \\theta_3 \\cdot AP + \\theta_4 \\cdot RH\n",
        "$$\n",
        "数据集按3:1比例划分为训练集和测试集，使用 scikit-learn 训练并评估模型。\n"
      ]
    },
    {
      "cell_type": "markdown",
      "metadata": {},
      "source": [
        "## 实验步骤\n",
        "### 1. 环境搭建\n",
        "确保 Python 3.9 和上述库已安装。\n",
        "\n",
        "### 2. 数据预处理\n",
        "加载数据集，验证列名，检查数据完整性，并按3:1划分训练集和测试集。"
      ]
    },
    {
      "cell_type": "code",
      "execution_count": null,
      "metadata": {},
      "outputs": [],
      "source": [
        "# 导入库\n",
        "import pandas as pd\n",
        "import numpy as np\n",
        "from sklearn.model_selection import train_test_split\n",
        "from sklearn.linear_model import LinearRegression\n",
        "from sklearn.metrics import mean_squared_error, mean_absolute_error, r2_score\n",
        "import matplotlib.pyplot as plt\n",
        "import seaborn as sns\n",
        "\n",
        "# 设置随机种子\n",
        "np.random.seed(1)\n",
        "\n",
        "def getTrainSetAndTestSet(DataPath):\n",
        "    \"\"\"读取数据集并划分为训练集和测试集\"\"\"\n",
        "    try:\n",
        "        data = pd.read_csv(DataPath)\n",
        "    except FileNotFoundError:\n",
        "        raise FileNotFoundError(f\"Dataset file '{DataPath}' not found. Please check the file path.\")\n",
        "\n",
        "    # 验证列名\n",
        "    expected_columns = ['AT', 'V', 'AP', 'RH', 'PE']\n",
        "    if not all(col in data.columns for col in expected_columns):\n",
        "        raise KeyError(f\"Dataset must contain columns: {expected_columns}\")\n",
        "\n",
        "    # 检查缺失值\n",
        "    if data.isnull().any().any():\n",
        "        print(\"Warning: Dataset contains missing values. Consider imputing them.\")\n",
        "\n",
        "    # 提取特征和目标\n",
        "    X = data[['AT', 'V', 'AP', 'RH']]\n",
        "    y = data['PE']\n",
        "\n",
        "    # 按3:1划分（75%训练，25%测试）\n",
        "    X_train, X_test, y_train, y_test = train_test_split(X, y, test_size=0.25, random_state=1)\n",
        "    return X_train, X_test, y_train, y_test\n",
        "\n",
        "# 加载数据\n",
        "data_path = 'Folds5x2_pp.csv'\n",
        "try:\n",
        "    X_train, X_test, y_train, y_test = getTrainSetAndTestSet(data_path)\n",
        "    # 显示数据信息\n",
        "    print(\"数据集总样本数:\", len(pd.read_csv(data_path)))\n",
        "    print(\"训练集形状:\", X_train.shape)\n",
        "    print(\"测试集形状:\", X_test.shape)\n",
        "    print(\"\\n训练集描述统计:\")\n",
        "    print(pd.concat([X_train, y_train], axis=1).describe())\n",
        "    print(\"\\n训练集前5行:\")\n",
        "    print(pd.concat([X_train, y_train], axis=1).head())\n",
        "except Exception as e:\n",
        "    print(f\"Error: {e}\")"
      ]
    },
    {
      "cell_type": "markdown",
      "metadata": {},
      "source": [
        "#### 数据预处理分析\n",
        "- **数据集规模**: 9568个样本，训练集约7176个，测试集约2392个。\n",
        "- **特征选择**: 使用AT, V, AP, RH作为输入，PE作为目标。\n",
        "- **划分比例**: 3:1划分（`test_size=0.25`)确保足够训练数据和测试数据。\n",
        "- **数据检查**: 验证了列名和缺失值，增强代码鲁棒性。\n",
        "- **描述统计**: 显示均值、标准差等，揭示特征范围差异（如AP~1000，RH~0-100）。"
      ]
    },
    {
      "cell_type": "markdown",
      "metadata": {},
      "source": [
        "### 3. 探索性数据分析 (EDA)\n",
        "分析特征分布、特征与目标的关系及相关性。"
      ]
    },
    {
      "cell_type": "code",
      "execution_count": null,
      "metadata": {},
      "outputs": [],
      "source": [
        "# 特征分布\n",
        "plt.figure(figsize=(12, 8))\n",
        "for i, column in enumerate(['AT', 'V', 'AP', 'RH'], 1):\n",
        "    plt.subplot(2, 2, i)\n",
        "    sns.histplot(X_train[column], kde=True, color='skyblue', bins=30)  # 指定bins\n",
        "    plt.title(f'Distribution of {column}')\n",
        "plt.tight_layout()\n",
        "plt.show()\n",
        "\n",
        "# 特征与PE关系\n",
        "plt.figure(figsize=(12, 8))\n",
        "for i, column in enumerate(['AT', 'V', 'AP', 'RH'], 1):\n",
        "    plt.subplot(2, 2, i)\n",
        "    plt.scatter(X_train[column], y_train, alpha=0.3, color='green')\n",
        "    plt.xlabel(column)\n",
        "    plt.ylabel('PE (Output Power)')\n",
        "    plt.title(f'{column} vs PE')\n",
        "plt.tight_layout()\n",
        "plt.show()\n",
        "\n",
        "# 相关性热图\n",
        "plt.figure(figsize=(8, 6))\n",
        "correlation_matrix = pd.concat([X_train, y_train], axis=1).corr()\n",
        "sns.heatmap(correlation_matrix, annot=True, cmap='coolwarm', fmt='.2f')\n",
        "plt.title('Correlation Matrix of Features and PE')\n",
        "plt.show()"
      ]
    },
    {
      "cell_type": "markdown",
      "metadata": {},
      "source": [
        "#### 探索性数据分析结果\n",
        "- **特征分布**: AT和V可能呈多峰分布，AP近似正态，RH分布较宽。bins=30确保分布细节清晰。\n",
        "- **特征与PE**: AT和V与PE呈明显负相关，AP和RH相关性较弱。\n",
        "- **相关性**: AT与PE相关性高，AT与V可能存在多重共线性，需关注模型稳定性。"
      ]
    },
    {
      "cell_type": "markdown",
      "metadata": {},
      "source": [
        "### 4. 训练线性回归模型\n",
        "训练模型并输出参数。"
      ]
    },
    {
      "cell_type": "code",
      "execution_count": null,
      "metadata": {},
      "outputs": [],
      "source": [
        "def TrainLinearRegression(X_train, y_train):\n",
        "    \"\"\"训练线性回归模型\"\"\"\n",
        "    # 初始化模型\n",
        "    linreg = LinearRegression()\n",
        "    # 拟合训练数据\n",
        "    linreg.fit(X_train, y_train)\n",
        "    # 输出参数\n",
        "    print(\"模型系数 (θ1:AT, θ2:V, θ3:AP, θ4:RH):\", linreg.coef_)\n",
        "    print(\"截距 (θ0):\", linreg.intercept_)\n",
        "    return linreg\n",
        "\n",
        "# 训练\n",
        "try:\n",
        "    linreg = TrainLinearRegression(X_train, y_train)\n",
        "except Exception as e:\n",
        "    print(f\"Training error: {e}\")"
      ]
    },
    {
      "cell_type": "markdown",
      "metadata": {},
      "source": [
        "#### 模型训练分析\n",
        "- **参数**: 系数反映特征影响方向和大小，截距为模型基准。\n",
        "- **方法**: 最小二乘法优化，适合线性关系假设。\n",
        "- **鲁棒性**: 添加try-except处理潜在训练错误（如数据格式问题）。"
      ]
    },
    {
      "cell_type": "markdown",
      "metadata": {},
      "source": [
        ### 5. 模型评估\n",
        "使用MSE, RMSE, MAE, R²评估性能。"
      ]
    },
    {
      "cell_type": "code",
      "execution_count": null,
      "metadata": {},
      "outputs": [],
      "source": [
        "def EvaluationModel(linreg, X_test, y_test):\n",
        "    \"\"\"评估模型性能\"\"\"\n",
        "    y_pred = linreg.predict(X_test)\n",
        "    mse = mean_squared_error(y_test, y_pred)\n",
        "    rmse = np.sqrt(mse)\n",
        "    mae = mean_absolute_error(y_test, y_pred)\n",
        "    r2 = r2_score(y_test, y_pred)\n",
        "    print(f\"均方误差 (MSE): {mse:.2f}\")\n",
        "    print(f\"均方根误差 (RMSE): {rmse:.2f}\")\n",
        "    print(f\"均绝对误差 (MAE): {mae:.2f}\")\n",
        "    print(f\"R² 分数: {r2:.4f}\")\n",
        "    return y_pred\n",
        "\n",
        "# 评估\n",
        "try:\n",
        "    y_pred = EvaluationModel(linreg, X_test, y_test)\n",
        "except Exception as e:\n",
        "    print(f\"Evaluation error: {e}\")"
      ]
    },
    {
      "cell_type": "markdown",
      "metadata": {},
      "source": [
        #### 模型评估结果\n",
        "- **MSE/RMSE**: 量化预测误差，RMSE单位与PE一致。\n",
        "- **MAE**: 反映平均绝对误差，适合评估异常值影响。\n",
        "- **R²**: 衡量模型解释力，接近1为佳。\n",
        "- **分析**: 低误差和高R²表明模型有效；若R²较低，可优化特征或模型。"
      ]
    },
    {
      "cell_type": "markdown",
      "metadata": {},
      "source": [
        ### 6. 结果可视化\n",
        "绘制预测与实际值、残差图和残差分布。"
      ]
    },
    {
      "cell_type": "code",
      "execution_count": null,
      "metadata": {},
      "outputs": [],
      "source": [
        "def Visualization(y_test, y_pred):\n",
        "    \"\"\"可视化预测结果\"\"\"\n",
        "    # 预测 vs 实际\n",
        "    plt.figure(figsize=(8, 6))\n",
        "    plt.scatter(y_test, y_pred, alpha=0.5, color='blue')\n",
        "    plt.plot([y_test.min(), y_test.max()], [y_test.min(), y_test.max()], 'k--', lw=5)  # 调整lw为5\n",
        "    plt.xlabel('Actual PE (Output Power)')\n",
        "    plt.ylabel('Predicted PE')\n",
        "    plt.title('Predicted vs Actual PE')\n",
        "    plt.tight_layout()\n",
        "    plt.show()\n",
        "\n",
        "    # 残差图\n",
        "    residuals = y_test - y_pred\n",
        "    plt.figure(figsize=(8, 6))\n",
        "    plt.scatter(y_pred, residuals, alpha=0.5, color='purple')\n",
        "    plt.axhline(y=0, color='red', linestyle='--')\n",
        "    plt.xlabel('Predicted PE')\n",
        "    plt.ylabel('Residuals (Actual PE - Predicted PE)')\n",
        "    plt.title('Residual Plot')\n",
        "    plt.tight_layout()\n",
        "    plt.show()\n",
        "\n",
        "    # 残差分布\n",
        "    plt.figure(figsize=(8, 6))\n",
        "    sns.histplot(residuals, kde=True, color='orange', bins=30)  # 指定bins\n",
        "    plt.xlabel('Residuals (Actual PE - Predicted PE)')\n",
        "    plt.title('Distribution of Residuals')\n",
        "    plt.tight_layout()\n",
        "    plt.show()\n",
        "\n",
        "# 可视化\n",
        "Visualization(y_test, y_pred)"
      ]
    },
    {
      "cell_type": "markdown",
      "metadata": {},
      "source": [
        #### 可视化分析\n",
        "- **预测 vs 实际**: 点靠近对角线表示高预测精度。\n",
        "- **残差图**: 随机分布且围绕0说明模型无系统性偏差。\n",
        "- **残差分布**: 近似正态分布为佳，偏态提示潜在改进空间。"
      ]
    },
    {
      "cell_type": "markdown",
      "metadata": {},
      "source": [
        "## 实验结果与讨论\n",
        "\n",
        "### 结果总结\n",
        "- **模型参数**: 成功拟合，系数和截距量化了特征影响。\n",
        "- **性能**: MSE, RMSE, MAE, R²表明模型预测能力，R²高（如>0.8）说明拟合良好。\n",
        "- **数据分析**: AT和V对PE影响显著，AP和RH较弱。\n",
        "- **可视化**: 预测准确，残差随机且近正态。\n",
        "\n",
        "### 讨论\n",
        "- **优势**: 线性回归简单高效，适合线性假设，易解释。\n",
        "- **局限性**: 非线性关系或多重共线性可能降低性能。\n",
        "- **改进**:\n",
        "  - 标准化特征（`StandardScaler`）以平衡尺度。\n",
        "  - 尝试Ridge回归或随机森林处理非线性或共线性。\n",
        "  - 检测并处理异常值。\n",
        "\n",
        "## 结论\n",
        "实验通过线性回归建模了环境特征与输出功率的关系，验证了模型有效性。数据分析和可视化加深了对数据特性的理解，实验流程展示了机器学习完整pipeline。未来可通过特征工程或复杂模型提升性能。"
      ]
    }
  ],
  "metadata": {
    "kernelspec": {
      "display_name": "Python 3",
      "language": "python",
      "name": "python3"
    },
    "language_info": {
      "codemirror_mode": {
        "name": "ipython",
        "version": 3
      },
      "file_extension": ".py",
      "mimetype": "text/x-python",
      "name": "python",
      "nbconvert_exporter": "python",
      "pygments_lexer": "ipython3",
      "version": "3.9.0"
    }
  },
  "nbformat": 4,
  "nbformat_minor": 4
}